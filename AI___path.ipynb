{
  "cells": [
    {
      "cell_type": "markdown",
      "metadata": {
        "colab_type": "text",
        "id": "view-in-github"
      },
      "source": [
        "<a href=\"https://colab.research.google.com/github/RYESAN58/CMP/blob/AI/AI___path.ipynb\" target=\"_parent\"><img src=\"https://colab.research.google.com/assets/colab-badge.svg\" alt=\"Open In Colab\"/></a>"
      ]
    },
    {
      "cell_type": "code",
      "execution_count": null,
      "metadata": {
        "colab": {
          "base_uri": "https://localhost:8080/"
        },
        "id": "DqBERyG8GonV",
        "outputId": "a48af9e5-27bf-473a-8ce6-b672f0cbf1b2"
      },
      "outputs": [
        {
          "name": "stdout",
          "output_type": "stream",
          "text": [
            "Move 2:\n",
            "- A - X - \n",
            "X - - - X \n",
            "- - - - - \n",
            "X - - X - \n",
            "- X - - - \n",
            "Move 4:\n",
            "- - A X - \n",
            "X - - - X \n",
            "- - - - - \n",
            "X - - X - \n",
            "- X - - - \n",
            "Move 6:\n",
            "- - - X - \n",
            "X - A - X \n",
            "- - - - - \n",
            "X - - X - \n",
            "- X - - - \n",
            "Move 8:\n",
            "- - - X - \n",
            "X - - A X \n",
            "- - - - - \n",
            "X - - X - \n",
            "- X - - - \n",
            "Move 10:\n",
            "- - - X - \n",
            "X - - - X \n",
            "- - - A - \n",
            "X - - X - \n",
            "- X - - - \n",
            "Move 12:\n",
            "- - - X - \n",
            "X - - - X \n",
            "- - - - A \n",
            "X - - X - \n",
            "- X - - - \n",
            "Move 14:\n",
            "- - - X - \n",
            "X - - - X \n",
            "- - - - - \n",
            "X - - X A \n",
            "- X - - - \n",
            "Move 16:\n",
            "- - - X - \n",
            "X - - - X \n",
            "- - - - - \n",
            "X - - X - \n",
            "- X - - A \n",
            "The agent has reached the target.\n"
          ]
        }
      ],
      "source": [
        "import random\n",
        "\n",
        "field = [[\"-\",\"-\",\"-\",'-',\"-\"],\n",
        "         ['-','-','-',\"-\",\"-\"],\n",
        "         ['-','-','-','-','-'],\n",
        "         ['-','-','-','-','-'],\n",
        "         ['-','-','-','-','-'],\n",
        "         ]\n",
        "objections = []\n",
        "def genenrate_random_location():\n",
        "  while True:\n",
        "      t = (random.randint(0,4),random.randint(0,4))\n",
        "      if t != (0,0) and t != (4,4):\n",
        "          return t\n",
        "for i in range(7):\n",
        "  objections.append(genenrate_random_location())\n",
        "\n",
        "for i in objections:\n",
        "  field[i[0]][i[1]] = \"X\"\n",
        "\n",
        "\n",
        "class Agent:\n",
        "  def __init__(self):\n",
        "    self.x = 0\n",
        "    self.y = 0\n",
        "    self.moves = 0\n",
        "    self.route = []\n",
        "    self.visited = {(0, 0)}\n",
        "  def check_and_move(self):\n",
        "    directions = [('right', (0, 1)), ('down', (1, 0)), ('left', (0, -1)), ('up', (-1, 0))]\n",
        "    for direction, (dx, dy) in directions:\n",
        "        new_x, new_y = self.x + dx, self.y + dy\n",
        "        if 0 <= new_x < 5 and 0 <= new_y < 5 and field[new_x][new_y] != \"X\" and (new_x, new_y) not in self.visited:\n",
        "            self.x, self.y = new_x, new_y\n",
        "            self.moves += 1\n",
        "            self.visited.add((new_x, new_y))\n",
        "            return True\n",
        "    return False\n",
        "\n",
        "  def print_field(self):\n",
        "    for row in range(5):\n",
        "        for col in range(5):\n",
        "            if (row, col) == (self.x, self.y):\n",
        "                print(\"A\", end=\" \")\n",
        "            else:\n",
        "                print(field[row][col], end=\" \")\n",
        "        print()\n",
        "agent = Agent()\n",
        "\n",
        "\n",
        "\n",
        "while (agent.x, agent.y) != (4, 4) and agent.moves < 100:\n",
        "    if agent.check_and_move():\n",
        "        agent.moves += 1\n",
        "        print(f\"Move {agent.moves}:\")\n",
        "        agent.print_field()\n",
        "    else:\n",
        "        print(\"Agent is stuck.\")\n",
        "        break\n",
        "\n",
        "if (agent.x, agent.y) == (4, 4):\n",
        "    print(\"The agent has reached the target.\")\n",
        "else:\n",
        "    print(\"The agent did not reach the target in 100 moves.\")\n"
      ]
    },
    {
      "cell_type": "code",
      "execution_count": null,
      "metadata": {
        "id": "YVY6EHwXzlM_"
      },
      "outputs": [],
      "source": []
    }
  ],
  "metadata": {
    "colab": {
      "authorship_tag": "ABX9TyP+rdU4SWDMtN6baNr4kR6i",
      "include_colab_link": true,
      "provenance": []
    },
    "kernelspec": {
      "display_name": "Python 3",
      "name": "python3"
    },
    "language_info": {
      "name": "python"
    }
  },
  "nbformat": 4,
  "nbformat_minor": 0
}
